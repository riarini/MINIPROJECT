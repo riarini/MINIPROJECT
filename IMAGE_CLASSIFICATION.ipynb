{
  "nbformat": 4,
  "nbformat_minor": 0,
  "metadata": {
    "colab": {
      "name": "IMAGE CLASSIFICATION.ipynb",
      "provenance": [],
      "collapsed_sections": [],
      "authorship_tag": "ABX9TyPYwoZM/1vMqv+LW/kUP/Uw",
      "include_colab_link": true
    },
    "kernelspec": {
      "name": "python3",
      "display_name": "Python 3"
    },
    "language_info": {
      "name": "python"
    }
  },
  "cells": [
    {
      "cell_type": "markdown",
      "metadata": {
        "id": "view-in-github",
        "colab_type": "text"
      },
      "source": [
        "<a href=\"https://colab.research.google.com/github/riarini/MINIPROJECT/blob/main/IMAGE_CLASSIFICATION.ipynb\" target=\"_parent\"><img src=\"https://colab.research.google.com/assets/colab-badge.svg\" alt=\"Open In Colab\"/></a>"
      ]
    },
    {
      "cell_type": "code",
      "metadata": {
        "colab": {
          "base_uri": "https://localhost:8080/"
        },
        "id": "j5HU00HM9zVZ",
        "outputId": "94b5e571-331c-49c8-adfd-34efbe77eabf"
      },
      "source": [
        "!pip install ipython-autotime\n",
        "%load_ext autotime"
      ],
      "execution_count": 32,
      "outputs": [
        {
          "output_type": "stream",
          "text": [
            "Requirement already satisfied: ipython-autotime in /usr/local/lib/python3.7/dist-packages (0.3.1)\n",
            "Requirement already satisfied: ipython in /usr/local/lib/python3.7/dist-packages (from ipython-autotime) (5.5.0)\n",
            "Requirement already satisfied: pygments in /usr/local/lib/python3.7/dist-packages (from ipython->ipython-autotime) (2.6.1)\n",
            "Requirement already satisfied: pexpect; sys_platform != \"win32\" in /usr/local/lib/python3.7/dist-packages (from ipython->ipython-autotime) (4.8.0)\n",
            "Requirement already satisfied: simplegeneric>0.8 in /usr/local/lib/python3.7/dist-packages (from ipython->ipython-autotime) (0.8.1)\n",
            "Requirement already satisfied: pickleshare in /usr/local/lib/python3.7/dist-packages (from ipython->ipython-autotime) (0.7.5)\n",
            "Requirement already satisfied: setuptools>=18.5 in /usr/local/lib/python3.7/dist-packages (from ipython->ipython-autotime) (57.0.0)\n",
            "Requirement already satisfied: decorator in /usr/local/lib/python3.7/dist-packages (from ipython->ipython-autotime) (4.4.2)\n",
            "Requirement already satisfied: traitlets>=4.2 in /usr/local/lib/python3.7/dist-packages (from ipython->ipython-autotime) (5.0.5)\n",
            "Requirement already satisfied: prompt-toolkit<2.0.0,>=1.0.4 in /usr/local/lib/python3.7/dist-packages (from ipython->ipython-autotime) (1.0.18)\n",
            "Requirement already satisfied: ptyprocess>=0.5 in /usr/local/lib/python3.7/dist-packages (from pexpect; sys_platform != \"win32\"->ipython->ipython-autotime) (0.7.0)\n",
            "Requirement already satisfied: ipython-genutils in /usr/local/lib/python3.7/dist-packages (from traitlets>=4.2->ipython->ipython-autotime) (0.2.0)\n",
            "Requirement already satisfied: six>=1.9.0 in /usr/local/lib/python3.7/dist-packages (from prompt-toolkit<2.0.0,>=1.0.4->ipython->ipython-autotime) (1.15.0)\n",
            "Requirement already satisfied: wcwidth in /usr/local/lib/python3.7/dist-packages (from prompt-toolkit<2.0.0,>=1.0.4->ipython->ipython-autotime) (0.2.5)\n",
            "The autotime extension is already loaded. To reload it, use:\n",
            "  %reload_ext autotime\n",
            "time: 3.46 s (started: 2021-06-16 19:24:31 +00:00)\n"
          ],
          "name": "stdout"
        }
      ]
    },
    {
      "cell_type": "code",
      "metadata": {
        "colab": {
          "base_uri": "https://localhost:8080/"
        },
        "id": "Xe0coZnh0w3D",
        "outputId": "9a5ffb2c-36a1-48ff-b542-6ce190895f2f"
      },
      "source": [
        "!pip install bing-image-downloader"
      ],
      "execution_count": 33,
      "outputs": [
        {
          "output_type": "stream",
          "text": [
            "Requirement already satisfied: bing-image-downloader in /usr/local/lib/python3.7/dist-packages (1.1.0)\n",
            "time: 3.35 s (started: 2021-06-16 19:24:34 +00:00)\n"
          ],
          "name": "stdout"
        }
      ]
    },
    {
      "cell_type": "code",
      "metadata": {
        "id": "arI9inSa28W2",
        "colab": {
          "base_uri": "https://localhost:8080/"
        },
        "outputId": "13e93884-1705-4d59-e3f6-c7774c5f1ce3"
      },
      "source": [
        "!mkdir images"
      ],
      "execution_count": 34,
      "outputs": [
        {
          "output_type": "stream",
          "text": [
            "mkdir: cannot create directory ‘images’: File exists\n",
            "time: 127 ms (started: 2021-06-16 19:24:37 +00:00)\n"
          ],
          "name": "stdout"
        }
      ]
    },
    {
      "cell_type": "code",
      "metadata": {
        "colab": {
          "base_uri": "https://localhost:8080/"
        },
        "id": "x4SR89WP3GiB",
        "outputId": "034612f6-4195-4db0-846c-4b2bebcb0bfb"
      },
      "source": [
        "from bing_image_downloader import downloader\n",
        "downloader.download(\"strawberry\",limit=30,output_dir='images',\n",
        "                    adult_filter_off=True)"
      ],
      "execution_count": 35,
      "outputs": [
        {
          "output_type": "stream",
          "text": [
            "[%] Downloading Images to /content/images/strawberry\n",
            "\n",
            "\n",
            "[!!]Indexing page: 1\n",
            "\n",
            "[%] Indexed 30 Images on Page 1.\n",
            "\n",
            "===============================================\n",
            "\n",
            "[%] Downloading Image #1 from https://www.gardeningknowhow.com/wp-content/uploads/2020/07/strawberry-shade.jpg\n",
            "[%] File Downloaded !\n",
            "\n",
            "[%] Downloading Image #2 from http://www.gannett-cdn.com/-mm-/5cd0df43c29b14929fae66ae55c652dd7cdb497c/c=341-497-3555-2313&amp;r=x1683&amp;c=3200x1680/local/-/media/2016/02/27/Indianapolis/B9321070943Z.1_20160227125416_000_GCPDIFINJ.1-0.jpg\n",
            "[%] File Downloaded !\n",
            "\n",
            "[%] Downloading Image #3 from http://1.bp.blogspot.com/-bBV4M7nK0-0/VHgmt6BnAqI/AAAAAAAAz8Q/zrLTuZaCMQs/s1600/Benefits%2BOf%2BWild%2BStrawberries%2B(Fragaria%2BVesca)%2BFor%2BHealth%2B(2).jpg\n",
            "[%] File Downloaded !\n",
            "\n",
            "[%] Downloading Image #4 from https://ae01.alicdn.com/kf/HTB1nGlkkndYBeNkSmLyq6xfnVXam/Original-package-True-strawberry-bonsai-fruit-plants-Climbing-Strawberry-For-home-garden.jpg\n",
            "[%] File Downloaded !\n",
            "\n",
            "[%] Downloading Image #5 from https://ae01.alicdn.com/kf/HTB1EkEvr3mTBuNjy1Xbq6yMrVXar/True-strawberry-bonsai-Potted-Strawberry-Rare-Organic-Fruit-For-home-garden-100-real-factory-package.jpg\n",
            "[%] File Downloaded !\n",
            "\n",
            "[%] Downloading Image #6 from https://static1.squarespace.com/static/510af861e4b0fb4ac2476309/581cd21520099e24f8249712/581f4a60d482e9a9a7f6710a/1478831622169/STRAWBERRIES.png\n",
            "[%] File Downloaded !\n",
            "\n",
            "[%] Downloading Image #7 from https://i.pinimg.com/originals/5b/c9/b2/5bc9b24fb727192db03cbd441ad7ad94.jpg\n",
            "[%] File Downloaded !\n",
            "\n",
            "[%] Downloading Image #8 from https://i.pinimg.com/originals/00/55/05/00550543e137d96de5e6a004a6d080b1.jpg\n",
            "[%] File Downloaded !\n",
            "\n",
            "[%] Downloading Image #9 from https://upload.wikimedia.org/wikipedia/commons/thumb/1/19/-_Strawberry_-.jpg/1200px--_Strawberry_-.jpg\n",
            "[%] File Downloaded !\n",
            "\n",
            "[%] Downloading Image #10 from https://ae01.alicdn.com/kf/HTB1Tf6lsYSYBuNjSspfq6AZCpXam/bonsai-True-strawberry-Potted-Strawberry-Rare-Organic-Fruit-For-home-garden-factory-package-100-real.jpg\n",
            "[%] File Downloaded !\n",
            "\n",
            "[%] Downloading Image #11 from https://live.staticflickr.com/3661/3392043661_322c1a340a_b.jpg\n",
            "[%] File Downloaded !\n",
            "\n",
            "[%] Downloading Image #12 from https://cdn.shopify.com/s/files/1/1904/8475/products/alexandria_strawberry_1024x1024.jpg?v=1576022457\n",
            "[%] File Downloaded !\n",
            "\n",
            "[%] Downloading Image #13 from https://cdn.shopify.com/s/files/1/0095/2842/products/Updated_Strawberry_10_ct_-_R_x600_c0b6f9d5-515d-48e9-99b8-5a6b6d5df1e8_580x@2x.png?v=1554733835\n",
            "[%] File Downloaded !\n",
            "\n",
            "[%] Downloading Image #14 from https://www.truecraftcannabis.com/wp-content/uploads/2020/03/strawberrymonday.jpg\n",
            "[%] File Downloaded !\n",
            "\n",
            "[%] Downloading Image #15 from http://amolife.com/en/wp-content/uploads/2014/03/strawberries_in_jar.jpg\n",
            "[%] File Downloaded !\n",
            "\n",
            "[%] Downloading Image #16 from https://www.littletrees.com/sites/default/files/2020-05/Strawberry_Background_1.jpg\n",
            "[%] File Downloaded !\n",
            "\n",
            "[%] Downloading Image #17 from https://trueforage.com/wp-content/uploads/Chia-Jelly-with-Strawberries-in-front-long.jpg\n",
            "[%] File Downloaded !\n",
            "\n",
            "[%] Downloading Image #18 from https://ae01.alicdn.com/kf/HTB1B06useSSBuNjy0Flq6zBpVXau/True-Honey-Strawberry-Bonsai-Natural-Organic-fruit-for-home-garden-plants-100-real-factory-package.jpg\n",
            "[%] File Downloaded !\n",
            "\n",
            "[%] Downloading Image #19 from https://product-assets.iheartjane.com/photos/3f/0a/3f0aee74-0219-49f6-ba2e-2c32307ff670.jpeg\n",
            "[Error]Invalid image, not saving https://product-assets.iheartjane.com/photos/3f/0a/3f0aee74-0219-49f6-ba2e-2c32307ff670.jpeg\n",
            "\n",
            "[!] Issue getting: https://product-assets.iheartjane.com/photos/3f/0a/3f0aee74-0219-49f6-ba2e-2c32307ff670.jpeg\n",
            "[!] Error:: Invalid image, not saving https://product-assets.iheartjane.com/photos/3f/0a/3f0aee74-0219-49f6-ba2e-2c32307ff670.jpeg\n",
            "\n",
            "[%] Downloading Image #19 from https://ae01.alicdn.com/kf/HTB1_B9MrwaTBuNjSszfq6xgfpXaG/True-Honey-Strawberry-Bonsai-Natural-Organic-fruit-for-home-garden-plants-100-real-factory-package.jpg\n",
            "[%] File Downloaded !\n",
            "\n",
            "[%] Downloading Image #20 from https://cdn.shopify.com/s/files/1/0052/5467/6593/t/81/assets/fruit-family-lemon-strawberry-bg-L_300x.png?v=2043904435004469609\n",
            "[%] File Downloaded !\n",
            "\n",
            "[%] Downloading Image #21 from https://jeanniestriedandtruerecipes.com/wp-content/uploads/2017/06/strawberries-CB.jpg\n",
            "[%] File Downloaded !\n",
            "\n",
            "[%] Downloading Image #22 from https://cdn.shopify.com/s/files/1/0052/5467/6593/t/54/assets/fruit-family-lemon-strawberry-bg-R_300x.png?128447\n",
            "[%] File Downloaded !\n",
            "\n",
            "[%] Downloading Image #23 from https://www.dhresource.com/0x0s/f2-albu-g1-M00-F7-19-rBVaGVZzsgCADkbRAAJsZIke9aw514.jpg/100-true-variety-giant-strawberry-seeds-300pcs.jpg\n",
            "[%] File Downloaded !\n",
            "\n",
            "[%] Downloading Image #24 from https://i.pinimg.com/originals/91/38/f6/9138f6bb1eb9e0911e97f246ef6a6f0a.png\n",
            "[%] File Downloaded !\n",
            "\n",
            "[%] Downloading Image #25 from https://www.rd.com/wp-content/uploads/2017/10/00_Amazing-Health-Benefits-of-the-Strawberry_201373736-Rock-and-Wasp_FT.jpg\n",
            "[%] File Downloaded !\n",
            "\n",
            "[%] Downloading Image #26 from https://i.pinimg.com/originals/02/a2/96/02a296494cfd2f1ba5e6bbe4751a1494.jpg\n",
            "[%] File Downloaded !\n",
            "\n",
            "[%] Downloading Image #27 from https://i.pinimg.com/originals/fd/03/2b/fd032b983d4aecbe893879cfc360066f.jpg\n",
            "[%] File Downloaded !\n",
            "\n",
            "[%] Downloading Image #28 from https://quipoquiz.com/sn_uploads/quizzes/fde1aa24601f70d96f25fa23cc17dd961455213427957.jpeg?maxw=350\n",
            "[%] File Downloaded !\n",
            "\n",
            "[%] Downloading Image #29 from https://s3.images-iherb.com/tcc/tcc00737/l/0.jpg\n",
            "[%] File Downloaded !\n",
            "\n",
            "\n",
            "\n",
            "[!!]Indexing page: 2\n",
            "\n",
            "[%] Indexed 35 Images on Page 2.\n",
            "\n",
            "===============================================\n",
            "\n",
            "[%] Downloading Image #30 from https://www.gardeningknowhow.com/wp-content/uploads/2020/07/strawberry-shade.jpg\n",
            "[%] File Downloaded !\n",
            "\n",
            "\n",
            "\n",
            "[%] Done. Downloaded 30 images.\n",
            "===============================================\n",
            "\n",
            "Please show your support here\n",
            "https://www.buymeacoffee.com/gurugaurav\n",
            "\n",
            "===============================================\n",
            "\n",
            "time: 12.1 s (started: 2021-06-16 19:24:38 +00:00)\n"
          ],
          "name": "stdout"
        }
      ]
    },
    {
      "cell_type": "code",
      "metadata": {
        "colab": {
          "base_uri": "https://localhost:8080/"
        },
        "id": "-IU9xj2w7tis",
        "outputId": "69b2748f-6ba3-49f4-a289-f280d6e45917"
      },
      "source": [
        "downloader.download(\"motorcycle\",limit=30,output_dir='images',\n",
        "                    adult_filter_off=True)"
      ],
      "execution_count": 36,
      "outputs": [
        {
          "output_type": "stream",
          "text": [
            "[%] Downloading Images to /content/images/motorcycle\n",
            "\n",
            "\n",
            "[!!]Indexing page: 1\n",
            "\n",
            "[%] Indexed 30 Images on Page 1.\n",
            "\n",
            "===============================================\n",
            "\n",
            "[%] Downloading Image #1 from https://i.pinimg.com/originals/00/6b/8c/006b8c48b868d930eedf3cb04f2fed59.jpg\n",
            "[%] File Downloaded !\n",
            "\n",
            "[%] Downloading Image #2 from http://images1.revzilla.com/product_images/0063/3081/rinehart_by_bub20092013_xtreme_true_duals_chrome_with_chrome_end_caps4_mufflers.jpg\n",
            "[%] File Downloaded !\n",
            "\n",
            "[%] Downloading Image #3 from https://yt3.ggpht.com/a/AATXAJy3C2ddP87YyFUQw9BJMNFRehHiuBQd_1jgmux-RQ=s900-c-k-c0xffffffff-no-rj-mo\n",
            "[%] File Downloaded !\n",
            "\n",
            "[%] Downloading Image #4 from https://i.pinimg.com/originals/d2/f3/88/d2f388798c7d18f3a9d99bdded416778.jpg\n",
            "[%] File Downloaded !\n",
            "\n",
            "[%] Downloading Image #5 from https://uploads.tapatalk-cdn.com/20201031/7978c3d16127bebd58d7ff5bf808012a.jpg\n",
            "[%] File Downloaded !\n",
            "\n",
            "[%] Downloading Image #6 from https://i.pinimg.com/originals/6c/19/59/6c1959695987a21666a31184249c6616.png\n",
            "[%] File Downloaded !\n",
            "\n",
            "[%] Downloading Image #7 from http://clementcycling.com/wp-content/uploads/2018/11/15-Motorcycles-with-Ridiculous-Paint-Job.jpg\n",
            "[%] File Downloaded !\n",
            "\n",
            "[%] Downloading Image #8 from https://blog.motorcycle.com/wp-content/uploads/2018/03/032318-True-American-Heroes-Weekend-XSR700.jpg\n",
            "[%] File Downloaded !\n",
            "\n",
            "[%] Downloading Image #9 from https://cimg2.ibsrv.net/cimg/www.hdforums.com/2000x2000_85-1/610/Harley-Rider-01-140610.jpg\n",
            "[%] File Downloaded !\n",
            "\n",
            "[%] Downloading Image #10 from https://i.pinimg.com/originals/35/f0/06/35f0065953753741d3ff40c177031e56.jpg\n",
            "[%] File Downloaded !\n",
            "\n",
            "[%] Downloading Image #11 from https://i.pinimg.com/originals/3c/7c/37/3c7c3789a297df5c18b63b3293e05614.jpg\n",
            "[%] File Downloaded !\n",
            "\n",
            "[%] Downloading Image #12 from https://www.denniskirk.com/dk/product_images/oe/1200pix/oep4410495_589a98f1b6d875c2129109d32d5f195451e2aa8d.jpg\n",
            "[%] File Downloaded !\n",
            "\n",
            "[%] Downloading Image #13 from https://i.pinimg.com/originals/da/bf/83/dabf839c4fcd22bf3717192fcadd967f.jpg\n",
            "[%] File Downloaded !\n",
            "\n",
            "[%] Downloading Image #14 from https://cdn.dealeraccelerate.com/amtc/2/7398/218484/1920x1440/2006-asve-chopper\n",
            "[Error]Invalid image, not saving https://cdn.dealeraccelerate.com/amtc/2/7398/218484/1920x1440/2006-asve-chopper\n",
            "\n",
            "[!] Issue getting: https://cdn.dealeraccelerate.com/amtc/2/7398/218484/1920x1440/2006-asve-chopper\n",
            "[!] Error:: Invalid image, not saving https://cdn.dealeraccelerate.com/amtc/2/7398/218484/1920x1440/2006-asve-chopper\n",
            "\n",
            "[%] Downloading Image #14 from https://blog.motorcycle.com/wp-content/uploads/2016/04/42616-true-america-heros-weekend.jpg\n",
            "[%] File Downloaded !\n",
            "\n",
            "[%] Downloading Image #15 from https://rideexpeditions.com/wp-content/uploads/2016/10/CC23.jpg\n",
            "[%] File Downloaded !\n",
            "\n",
            "[%] Downloading Image #16 from https://i.pinimg.com/originals/af/95/ba/af95ba6c831aa19dff282a44b993967a.jpg\n",
            "[%] File Downloaded !\n",
            "\n",
            "[%] Downloading Image #17 from https://i.pinimg.com/originals/c0/3c/27/c03c277bbd8be49a4eef56e67217ba88.jpg\n",
            "[%] File Downloaded !\n",
            "\n",
            "[%] Downloading Image #18 from http://pm1.narvii.com/7447/ddae9b351979f039449558ed0537deaf361debb1r1-720-717v2_uhq.jpg\n",
            "[%] File Downloaded !\n",
            "\n",
            "[%] Downloading Image #19 from https://i.pinimg.com/originals/71/36/b0/7136b070727641058440d547342a9915.jpg\n",
            "[%] File Downloaded !\n",
            "\n",
            "[%] Downloading Image #20 from https://ridersrecycle.com/blog/wp-content/uploads/2012/06/rt3.jpg\n",
            "[%] File Downloaded !\n",
            "\n",
            "[%] Downloading Image #21 from https://i.pinimg.com/originals/a4/63/73/a46373ae65f56c037cf2396f2b7b311e.jpg\n",
            "[%] File Downloaded !\n",
            "\n",
            "[%] Downloading Image #22 from https://i.ebayimg.com/00/s/NDY3WDcwMA==/z/qGUAAOSwq9NZu~hV/$_57.JPG?set_id=8800005007\n",
            "[%] File Downloaded !\n",
            "\n",
            "[%] Downloading Image #23 from https://www.dirtywheel.com/uploads/video/2018/07/01/hq/h_5b42959320dfd.jpg\n",
            "[%] File Downloaded !\n",
            "\n",
            "[%] Downloading Image #24 from https://www.motorcycletunes.com/prodimages/02 Harley Fatboy/009.JPG\n",
            "[!] Issue getting: https://www.motorcycletunes.com/prodimages/02 Harley Fatboy/009.JPG\n",
            "[!] Error:: URL can't contain control characters. '/prodimages/02 Harley Fatboy/009.JPG' (found at least ' ')\n",
            "[%] Downloading Image #24 from https://cdn.acidcow.com/pics/20160307/lm847_maserati_02.jpg\n",
            "[%] File Downloaded !\n",
            "\n",
            "[%] Downloading Image #25 from https://i.pinimg.com/originals/10/10/e0/1010e08fa4b43347c2aaa4491a4d3157.jpg\n",
            "[%] File Downloaded !\n",
            "\n",
            "[%] Downloading Image #26 from https://customdigital.com.au/wp-content/uploads/2018/11/True-Blue-Motorbike-Graphics-Custom-Digital_0003_6-copy.jpg\n",
            "[%] File Downloaded !\n",
            "\n",
            "[%] Downloading Image #27 from https://i.ebayimg.com/images/i/391372155029-0-1/s-l1000.jpg\n",
            "[%] File Downloaded !\n",
            "\n",
            "[%] Downloading Image #28 from http://www.roadrunner.travel/wp/wp-content/uploads/Velo1-772x603.jpg\n",
            "[%] File Downloaded !\n",
            "\n",
            "\n",
            "\n",
            "[!!]Indexing page: 2\n",
            "\n",
            "[%] Indexed 35 Images on Page 2.\n",
            "\n",
            "===============================================\n",
            "\n",
            "[%] Downloading Image #29 from https://i.pinimg.com/originals/00/6b/8c/006b8c48b868d930eedf3cb04f2fed59.jpg\n",
            "[%] File Downloaded !\n",
            "\n",
            "[%] Downloading Image #30 from http://images1.revzilla.com/product_images/0063/3081/rinehart_by_bub20092013_xtreme_true_duals_chrome_with_chrome_end_caps4_mufflers.jpg\n",
            "[%] File Downloaded !\n",
            "\n",
            "\n",
            "\n",
            "[%] Done. Downloaded 30 images.\n",
            "===============================================\n",
            "\n",
            "Please show your support here\n",
            "https://www.buymeacoffee.com/gurugaurav\n",
            "\n",
            "===============================================\n",
            "\n",
            "time: 9.37 s (started: 2021-06-16 19:24:50 +00:00)\n"
          ],
          "name": "stdout"
        }
      ]
    },
    {
      "cell_type": "code",
      "metadata": {
        "colab": {
          "base_uri": "https://localhost:8080/"
        },
        "id": "IuuLlbHc8uTR",
        "outputId": "91d9c5ba-44d1-409b-8802-a8e65814a036"
      },
      "source": [
        "downloader.download(\"shoes\",limit=30,output_dir='images',\n",
        "                    adult_filter_off=True)"
      ],
      "execution_count": 37,
      "outputs": [
        {
          "output_type": "stream",
          "text": [
            "[%] Downloading Images to /content/images/shoes\n",
            "\n",
            "\n",
            "[!!]Indexing page: 1\n",
            "\n",
            "[%] Indexed 30 Images on Page 1.\n",
            "\n",
            "===============================================\n",
            "\n",
            "[%] Downloading Image #1 from https://www.intheholegolf.com/img/true-linkswear-golf-shoes/true-linkswear-true-vegas-golf-shoes-brown-orange-2.jpg\n",
            "[%] File Downloaded !\n",
            "\n",
            "[%] Downloading Image #2 from http://www.ems.com/dw/image/v2/AAQU_PRD/on/demandware.static/-/Sites-vestis-master-catalog/default/dwdd1103c3/product/images/2021/743/2021743/2021743_004_main.jpg?sw=474&amp;sh=474&amp;sm=fit\n",
            "[%] File Downloaded !\n",
            "\n",
            "[%] Downloading Image #3 from http://thesandtrap.com/b/imgs/apparel/true_linkswear_review_photos_front.jpg\n",
            "[%] File Downloaded !\n",
            "\n",
            "[%] Downloading Image #4 from https://www.spylovebuy.com/images/true-love-lace-up-flat-trainers-shoes-grey-leather-style-p4416-28371_image.jpg\n",
            "[%] File Downloaded !\n",
            "\n",
            "[%] Downloading Image #5 from https://i5.walmartimages.com/asr/4b26f2d2-ef7a-4867-9f7b-f8b5c06494d4_1.2aae90b28d6804bbdf5a8beba3a05ef6.jpeg\n",
            "[%] File Downloaded !\n",
            "\n",
            "[%] Downloading Image #6 from https://thesandtrap.com/b/imgs/apparel/true_linkswear_review_photos_side.jpg\n",
            "[%] File Downloaded !\n",
            "\n",
            "[%] Downloading Image #7 from https://n3.sdlcdn.com/imgs/b/p/f/True-Soles-Blue-Lifestyle-Shoes-SDL306303311-4-72458.jpg\n",
            "[%] File Downloaded !\n",
            "\n",
            "[%] Downloading Image #8 from https://n1.sdlcdn.com/imgs/b/p/f/True-Soles-Blue-Lifestyle-Shoes-SDL306303311-1-3c9bf.jpg\n",
            "[%] File Downloaded !\n",
            "\n",
            "[%] Downloading Image #9 from https://www.hurricanegolf.com/media/catalog/product/cache/1/image/1200x/040ec09b1e35df139433887a97daa66f/t/r/truelinkswear_truemotionshoes_parent.jpg\n",
            "[%] File Downloaded !\n",
            "\n",
            "[%] Downloading Image #10 from https://i5.walmartimages.com/asr/1be21396-73f5-4266-a5d5-a5438f4a7033_1.2907a41acf77335f031330c714e3148f.jpeg\n",
            "[%] File Downloaded !\n",
            "\n",
            "[%] Downloading Image #11 from https://d3d71ba2asa5oz.cloudfront.net/12015669/images/ep1-1010-angle.jpg\n",
            "[%] File Downloaded !\n",
            "\n",
            "[%] Downloading Image #12 from https://thesandtrap.com/b/imgs/apparel/true_linkswear_review_photos_above.jpg\n",
            "[%] File Downloaded !\n",
            "\n",
            "[%] Downloading Image #13 from https://www.spylovebuy.com/images/true-love-lace-up-flat-trainers-shoes-black-leather-style-p4415-28366_image.jpg\n",
            "[%] File Downloaded !\n",
            "\n",
            "[%] Downloading Image #14 from https://cdn.watersportsoutlet.com/images/thumbs/Musto-Nautic-Speed-Sailing-Shoes-True-Navy-FUFT019-2.700x1400.jpg\n",
            "[%] File Downloaded !\n",
            "\n",
            "[%] Downloading Image #15 from http://image.sportsmansguide.com/adimgs/l/2/233534_ts.jpg\n",
            "[%] File Downloaded !\n",
            "\n",
            "[%] Downloading Image #16 from https://i.ebayimg.com/images/i/171873521041-0-1/s-l1000.jpg\n",
            "[%] File Downloaded !\n",
            "\n",
            "[%] Downloading Image #17 from http://cdnb.lystit.com/photos/2011/09/15/true-religion-brown-stitch-it-leather-sneaker-product-1-2029661-837678160.jpeg\n",
            "[%] File Downloaded !\n",
            "\n",
            "[%] Downloading Image #18 from https://d3d71ba2asa5oz.cloudfront.net/12015669/images/og1-0001.jpg\n",
            "[%] File Downloaded !\n",
            "\n",
            "[%] Downloading Image #19 from http://hypebeast.com/image/2016/06/nike-be-true-collection-0.jpg\n",
            "[%] File Downloaded !\n",
            "\n",
            "[%] Downloading Image #20 from https://www.intheholegolf.com/img/true-linkswear-golf-shoes/true-linkswear-true-vegas-golf-shoes-black-grey-2.jpg\n",
            "[%] File Downloaded !\n",
            "\n",
            "[%] Downloading Image #21 from http://mensbook.com/get/files/image/galleries/linksoul03.jpg\n",
            "[%] File Downloaded !\n",
            "\n",
            "[%] Downloading Image #22 from http://www.steptorun.com/shop/icon/b3/342964-153.jpg\n",
            "[%] File Downloaded !\n",
            "\n",
            "[%] Downloading Image #23 from https://www.jeanscene.co.uk/media/catalog/product/cache/1/image/1600x/9df78eab33525d08d6e5fb8d27136e95/f/w/fw210_true-black_2-2.jpg\n",
            "[%] File Downloaded !\n",
            "\n",
            "[%] Downloading Image #24 from http://cdn.hurricanegolf.com/media/catalog/product/t/r/truelinkswear_truemotionshoes_whttrednvy_1_1.jpg\n",
            "[%] File Downloaded !\n",
            "\n",
            "[%] Downloading Image #25 from https://practical-golf.com/wp-content/uploads/2018/08/true-linkswear-knit-golf-shoe-review.jpg\n",
            "[%] File Downloaded !\n",
            "\n",
            "[%] Downloading Image #26 from https://i1.wp.com/coloradogolfblog.com/wp-content/uploads/2019/01/TRUE_OGP.png?resize=1080%2C1080&amp;ssl=1\n",
            "[%] File Downloaded !\n",
            "\n",
            "[%] Downloading Image #27 from https://s-media-cache-ak0.pinimg.com/originals/e6/95/87/e69587b6964cf07633aea8ab5a6c3661.jpg\n",
            "[%] File Downloaded !\n",
            "\n",
            "[%] Downloading Image #28 from https://www.tactics.com/a/biz2/9/vans-ultrarange-rapidweld-shoes-racing-red-true-white.jpg\n",
            "[Error]Invalid image, not saving https://www.tactics.com/a/biz2/9/vans-ultrarange-rapidweld-shoes-racing-red-true-white.jpg\n",
            "\n",
            "[!] Issue getting: https://www.tactics.com/a/biz2/9/vans-ultrarange-rapidweld-shoes-racing-red-true-white.jpg\n",
            "[!] Error:: Invalid image, not saving https://www.tactics.com/a/biz2/9/vans-ultrarange-rapidweld-shoes-racing-red-true-white.jpg\n",
            "\n",
            "[%] Downloading Image #28 from https://i.ebayimg.com/images/g/NjEAAOSwRWRbNHK4/s-l1600.jpg\n",
            "[%] File Downloaded !\n",
            "\n",
            "[%] Downloading Image #29 from https://images.bonanzastatic.com/afu/images/01f1/dee5/1ab9_8970392060/s-l1600.png\n",
            "[%] File Downloaded !\n",
            "\n",
            "\n",
            "\n",
            "[!!]Indexing page: 2\n",
            "\n",
            "[%] Indexed 35 Images on Page 2.\n",
            "\n",
            "===============================================\n",
            "\n",
            "[%] Downloading Image #30 from https://www.intheholegolf.com/img/true-linkswear-golf-shoes/true-linkswear-true-vegas-golf-shoes-brown-orange-2.jpg\n",
            "[%] File Downloaded !\n",
            "\n",
            "\n",
            "\n",
            "[%] Done. Downloaded 30 images.\n",
            "===============================================\n",
            "\n",
            "Please show your support here\n",
            "https://www.buymeacoffee.com/gurugaurav\n",
            "\n",
            "===============================================\n",
            "\n",
            "time: 11.2 s (started: 2021-06-16 19:24:59 +00:00)\n"
          ],
          "name": "stdout"
        }
      ]
    },
    {
      "cell_type": "code",
      "metadata": {
        "colab": {
          "base_uri": "https://localhost:8080/"
        },
        "id": "yVXxxv5t9k-T",
        "outputId": "ef34c846-4dd9-4fb2-a87f-3e5305ea14a5"
      },
      "source": [
        "import os\n",
        "import matplotlib.pyplot as plt\n",
        "import numpy as np\n",
        "from skimage.io import imread\n",
        "from skimage.transform import resize\n",
        "\n",
        "target = []\n",
        "images = []\n",
        "flat_data = []\n",
        "\n",
        "DATADIR = '/content/images'\n",
        "CATEGORIES = ['motorcycle','shoes','strawberry']\n",
        "\n",
        "for category in CATEGORIES:\n",
        "  class_num = CATEGORIES.index(category)\n",
        "  print(class_num)\n",
        "  path = os.path.join(DATADIR,category)\n",
        "  for img in os.listdir(path):\n",
        "    img_array = imread(os.path.join(path,img))\n",
        "    #print(img_array)\n",
        "    #plt.imshow(img_array)\n",
        "    img_resized = resize(img_array,(150,150,3))\n",
        "    flat_data.append(img_resized.flatten())\n",
        "    images.append(img_resized)\n",
        "    target.append(class_num)\n",
        "\n",
        "flat_data = np.array(flat_data)\n",
        "target = np.array(target)\n",
        "images = np.array(images)"
      ],
      "execution_count": 38,
      "outputs": [
        {
          "output_type": "stream",
          "text": [
            "0\n",
            "1\n",
            "2\n",
            "time: 38.9 s (started: 2021-06-16 19:25:10 +00:00)\n"
          ],
          "name": "stdout"
        }
      ]
    },
    {
      "cell_type": "code",
      "metadata": {
        "colab": {
          "base_uri": "https://localhost:8080/"
        },
        "id": "oouKjA31GpxY",
        "outputId": "c59d5f94-be9a-49da-ab32-48ddbdf72409"
      },
      "source": [
        "len(flat_data[0])"
      ],
      "execution_count": 39,
      "outputs": [
        {
          "output_type": "execute_result",
          "data": {
            "text/plain": [
              "67500"
            ]
          },
          "metadata": {
            "tags": []
          },
          "execution_count": 39
        },
        {
          "output_type": "stream",
          "text": [
            "time: 5.36 ms (started: 2021-06-16 19:25:49 +00:00)\n"
          ],
          "name": "stdout"
        }
      ]
    },
    {
      "cell_type": "code",
      "metadata": {
        "colab": {
          "base_uri": "https://localhost:8080/"
        },
        "id": "eNEZaypgHFmb",
        "outputId": "12841a2d-580f-4edc-c272-1c2ca48a5246"
      },
      "source": [
        "150*150*3"
      ],
      "execution_count": 40,
      "outputs": [
        {
          "output_type": "execute_result",
          "data": {
            "text/plain": [
              "67500"
            ]
          },
          "metadata": {
            "tags": []
          },
          "execution_count": 40
        },
        {
          "output_type": "stream",
          "text": [
            "time: 4.7 ms (started: 2021-06-16 19:25:49 +00:00)\n"
          ],
          "name": "stdout"
        }
      ]
    },
    {
      "cell_type": "code",
      "metadata": {
        "colab": {
          "base_uri": "https://localhost:8080/"
        },
        "id": "aeti8pamHLou",
        "outputId": "1e0ff732-5639-43c9-906e-55398fb30552"
      },
      "source": [
        "target"
      ],
      "execution_count": 41,
      "outputs": [
        {
          "output_type": "execute_result",
          "data": {
            "text/plain": [
              "array([0, 0, 0, 0, 0, 0, 0, 0, 0, 0, 0, 0, 0, 0, 0, 0, 0, 0, 0, 0, 0, 0,\n",
              "       0, 0, 0, 0, 0, 0, 0, 0, 1, 1, 1, 1, 1, 1, 1, 1, 1, 1, 1, 1, 1, 1,\n",
              "       1, 1, 1, 1, 1, 1, 1, 1, 1, 1, 1, 1, 1, 1, 1, 1, 1, 2, 2, 2, 2, 2,\n",
              "       2, 2, 2, 2, 2, 2, 2, 2, 2, 2, 2, 2, 2, 2, 2, 2, 2, 2, 2, 2, 2, 2,\n",
              "       2, 2, 2])"
            ]
          },
          "metadata": {
            "tags": []
          },
          "execution_count": 41
        },
        {
          "output_type": "stream",
          "text": [
            "time: 6.51 ms (started: 2021-06-16 19:25:49 +00:00)\n"
          ],
          "name": "stdout"
        }
      ]
    },
    {
      "cell_type": "code",
      "metadata": {
        "colab": {
          "base_uri": "https://localhost:8080/",
          "height": 301
        },
        "id": "ldsv50tJHi2h",
        "outputId": "343143b7-1803-4eb0-f105-9dfff593b507"
      },
      "source": [
        "unique,count = np.unique(target,return_counts=True)\n",
        "plt.bar(CATEGORIES,count)"
      ],
      "execution_count": 42,
      "outputs": [
        {
          "output_type": "execute_result",
          "data": {
            "text/plain": [
              "<BarContainer object of 3 artists>"
            ]
          },
          "metadata": {
            "tags": []
          },
          "execution_count": 42
        },
        {
          "output_type": "display_data",
          "data": {
            "image/png": "[encoded data removed]",
            "text/plain": [
              "<Figure size 432x288 with 1 Axes>"
            ]
          },
          "metadata": {
            "tags": [],
            "needs_background": "light"
          }
        },
        {
          "output_type": "stream",
          "text": [
            "time: 203 ms (started: 2021-06-16 19:25:49 +00:00)\n"
          ],
          "name": "stdout"
        }
      ]
    },
    {
      "cell_type": "code",
      "metadata": {
        "colab": {
          "base_uri": "https://localhost:8080/"
        },
        "id": "2W5oumFEIJk7",
        "outputId": "fd8d042e-84aa-46ac-9dad-00d160a2d493"
      },
      "source": [
        "from sklearn.model_selection import train_test_split\n",
        "x_train,x_test,y_train,y_test = train_test_split(flat_data,target,\n",
        "                                  test_size=0.3,random_state=109)"
      ],
      "execution_count": 43,
      "outputs": [
        {
          "output_type": "stream",
          "text": [
            "time: 23.4 ms (started: 2021-06-16 19:25:49 +00:00)\n"
          ],
          "name": "stdout"
        }
      ]
    },
    {
      "cell_type": "code",
      "metadata": {
        "colab": {
          "base_uri": "https://localhost:8080/"
        },
        "id": "OpZm-wU2Gmfu",
        "outputId": "59723f40-7f67-4951-9bd3-cc6a76630869"
      },
      "source": [
        "from sklearn.model_selection import GridSearchCV\n",
        "from sklearn import svm\n",
        "param_grid = [\n",
        "              {'C':[1,10,100,1000],'kernel':['linear']},\n",
        "              {'C':[1,10,100,1000],'gamma':[0.001,0.0001],'kernel':['rbf']},\n",
        "]\n",
        "\n",
        "svc = svm.SVC(probability=True)\n",
        "clf = GridSearchCV(svc,param_grid)\n",
        "clf.fit(x_train,y_train)"
      ],
      "execution_count": 44,
      "outputs": [
        {
          "output_type": "execute_result",
          "data": {
            "text/plain": [
              "GridSearchCV(cv=None, error_score=nan,\n",
              "             estimator=SVC(C=1.0, break_ties=False, cache_size=200,\n",
              "                           class_weight=None, coef0=0.0,\n",
              "                           decision_function_shape='ovr', degree=3,\n",
              "                           gamma='scale', kernel='rbf', max_iter=-1,\n",
              "                           probability=True, random_state=None, shrinking=True,\n",
              "                           tol=0.001, verbose=False),\n",
              "             iid='deprecated', n_jobs=None,\n",
              "             param_grid=[{'C': [1, 10, 100, 1000], 'kernel': ['linear']},\n",
              "                         {'C': [1, 10, 100, 1000], 'gamma': [0.001, 0.0001],\n",
              "                          'kernel': ['rbf']}],\n",
              "             pre_dispatch='2*n_jobs', refit=True, return_train_score=False,\n",
              "             scoring=None, verbose=0)"
            ]
          },
          "metadata": {
            "tags": []
          },
          "execution_count": 44
        },
        {
          "output_type": "stream",
          "text": [
            "time: 1min 34s (started: 2021-06-16 19:25:50 +00:00)\n"
          ],
          "name": "stdout"
        }
      ]
    },
    {
      "cell_type": "code",
      "metadata": {
        "colab": {
          "base_uri": "https://localhost:8080/"
        },
        "id": "jsAv2WLFJwfE",
        "outputId": "d6e1b58f-39ae-40ba-db82-ad03bedeaa51"
      },
      "source": [
        "y_pred = clf.predict(x_test)\n",
        "y_pred"
      ],
      "execution_count": 45,
      "outputs": [
        {
          "output_type": "execute_result",
          "data": {
            "text/plain": [
              "array([0, 1, 1, 1, 1, 1, 1, 0, 2, 1, 0, 1, 0, 1, 0, 1, 1, 2, 0, 0, 1, 0,\n",
              "       1, 1, 0, 1, 1, 0])"
            ]
          },
          "metadata": {
            "tags": []
          },
          "execution_count": 45
        },
        {
          "output_type": "stream",
          "text": [
            "time: 149 ms (started: 2021-06-16 19:27:24 +00:00)\n"
          ],
          "name": "stdout"
        }
      ]
    },
    {
      "cell_type": "code",
      "metadata": {
        "colab": {
          "base_uri": "https://localhost:8080/"
        },
        "id": "0ZyksHCDJ5lh",
        "outputId": "e8c5edaf-12ae-4be5-9bbc-068a5835ec9c"
      },
      "source": [
        "y_test"
      ],
      "execution_count": 46,
      "outputs": [
        {
          "output_type": "execute_result",
          "data": {
            "text/plain": [
              "array([0, 2, 2, 0, 1, 1, 1, 0, 2, 1, 0, 0, 2, 1, 0, 2, 1, 1, 0, 2, 1, 0,\n",
              "       1, 1, 2, 2, 1, 2])"
            ]
          },
          "metadata": {
            "tags": []
          },
          "execution_count": 46
        },
        {
          "output_type": "stream",
          "text": [
            "time: 5.66 ms (started: 2021-06-16 19:27:24 +00:00)\n"
          ],
          "name": "stdout"
        }
      ]
    },
    {
      "cell_type": "code",
      "metadata": {
        "colab": {
          "base_uri": "https://localhost:8080/"
        },
        "id": "pbPOQqa7J_S3",
        "outputId": "5b3e720a-4e53-4627-e3ea-188f61aa3528"
      },
      "source": [
        "from sklearn.metrics import accuracy_score,confusion_matrix"
      ],
      "execution_count": 47,
      "outputs": [
        {
          "output_type": "stream",
          "text": [
            "time: 1.45 ms (started: 2021-06-16 19:27:24 +00:00)\n"
          ],
          "name": "stdout"
        }
      ]
    },
    {
      "cell_type": "code",
      "metadata": {
        "colab": {
          "base_uri": "https://localhost:8080/"
        },
        "id": "5Z3b2Mx-JwLh",
        "outputId": "9eff35f7-e31c-41a5-d414-ae4571372156"
      },
      "source": [
        "accuracy_score(y_pred,y_test)"
      ],
      "execution_count": 48,
      "outputs": [
        {
          "output_type": "execute_result",
          "data": {
            "text/plain": [
              "0.6071428571428571"
            ]
          },
          "metadata": {
            "tags": []
          },
          "execution_count": 48
        },
        {
          "output_type": "stream",
          "text": [
            "time: 9.35 ms (started: 2021-06-16 19:27:24 +00:00)\n"
          ],
          "name": "stdout"
        }
      ]
    },
    {
      "cell_type": "code",
      "metadata": {
        "colab": {
          "base_uri": "https://localhost:8080/"
        },
        "id": "XWt_do92KbuY",
        "outputId": "2547795b-3da4-4bf7-b083-853cf1698484"
      },
      "source": [
        "confusion_matrix(y_pred,y_test)"
      ],
      "execution_count": 49,
      "outputs": [
        {
          "output_type": "execute_result",
          "data": {
            "text/plain": [
              "array([[ 6,  0,  4],\n",
              "       [ 2, 10,  4],\n",
              "       [ 0,  1,  1]])"
            ]
          },
          "metadata": {
            "tags": []
          },
          "execution_count": 49
        },
        {
          "output_type": "stream",
          "text": [
            "time: 9.85 ms (started: 2021-06-16 19:27:24 +00:00)\n"
          ],
          "name": "stdout"
        }
      ]
    },
    {
      "cell_type": "code",
      "metadata": {
        "colab": {
          "base_uri": "https://localhost:8080/"
        },
        "id": "7s7DuAliK5gb",
        "outputId": "be1b6644-b436-4309-aee9-77e797b9c6d8"
      },
      "source": [
        "import pickle\n",
        "pickle.dump(clf,open('img_model.p','wb'))"
      ],
      "execution_count": 50,
      "outputs": [
        {
          "output_type": "stream",
          "text": [
            "time: 58.1 ms (started: 2021-06-16 19:27:24 +00:00)\n"
          ],
          "name": "stdout"
        }
      ]
    },
    {
      "cell_type": "code",
      "metadata": {
        "colab": {
          "base_uri": "https://localhost:8080/"
        },
        "id": "0z99QhQKLM_E",
        "outputId": "8fb1c3e5-ee4e-49c1-b3d3-1343c0d4ebaa"
      },
      "source": [
        "model = pickle.load(open('img_model.p','rb'))"
      ],
      "execution_count": 51,
      "outputs": [
        {
          "output_type": "stream",
          "text": [
            "time: 23 ms (started: 2021-06-16 19:27:24 +00:00)\n"
          ],
          "name": "stdout"
        }
      ]
    },
    {
      "cell_type": "code",
      "metadata": {
        "id": "UHO32kBoLf8D",
        "colab": {
          "base_uri": "https://localhost:8080/",
          "height": 341
        },
        "outputId": "bed045b6-cfb1-4250-ec44-a03a8f21c8c7"
      },
      "source": [
        "flat_data = []\n",
        "url = input('Enter your URL')\n",
        "img = imread(url)\n",
        "img_resized = resize(img,(150,150,3))\n",
        "flat_data.append(img_resized.flatten())\n",
        "flat_data = np.array(flat_data)\n",
        "print(img.shape)\n",
        "plt.imshow(img_resized)\n",
        "y_out = model.predict(flat_data)\n",
        "y_out = CATEGORIES[y_out[0]]\n",
        "print(f'PREDICTED OUTPUT:{y_out}')\n",
        "#used url:https://hips.hearstapps.com/vader-prod.s3.amazonaws.com/1610416577-vans-1610416571.jpg"
      ],
      "execution_count": 58,
      "outputs": [
        {
          "output_type": "stream",
          "text": [
            "Enter your URLhttps://hips.hearstapps.com/vader-prod.s3.amazonaws.com/1610416577-vans-1610416571.jpg\n",
            "(820, 800, 3)\n",
            "PREDICTED OUTPUT:shoes\n"
          ],
          "name": "stdout"
        },
        {
          "output_type": "display_data",
          "data": {
            "image/png": "[encoded data removed]",
            "text/plain": [
              "<Figure size 432x288 with 1 Axes>"
            ]
          },
          "metadata": {
            "tags": [],
            "needs_background": "light"
          }
        },
        {
          "output_type": "stream",
          "text": [
            "time: 3.88 s (started: 2021-06-16 19:42:31 +00:00)\n"
          ],
          "name": "stdout"
        }
      ]
    }
  ]
}